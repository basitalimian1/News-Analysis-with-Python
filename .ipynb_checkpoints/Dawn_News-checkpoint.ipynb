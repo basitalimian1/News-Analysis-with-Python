{
 "cells": [
  {
   "cell_type": "markdown",
   "id": "cd66d8bb",
   "metadata": {},
   "source": [
    "### Imports"
   ]
  },
  {
   "cell_type": "code",
   "execution_count": 1,
   "id": "311efa4b",
   "metadata": {},
   "outputs": [],
   "source": [
    "import warnings\n",
    "import pandas as pd                                         # analyzing data\n",
    "import nltk                                                 # dealing with text data\n",
    "import matplotlib.pyplot as plt                             # Visuliztion \n",
    "import seaborn as sns                                       # Visuliztion \n",
    "import numpy as np                                          # For numerical oprations\n",
    "from sklearn.feature_extraction.text import CountVectorizer\n",
    "\n",
    "from gensim.parsing.preprocessing import STOPWORDS          # Preprocessing text importing stop words\n",
    "from nltk.tokenize import word_tokenize                     # Preprocessing text importing word tokanier \n",
    "\n",
    "from ipywidgets import Dropdown,interact                    # Dropdown interface\n",
    "\n",
    "warnings.filterwarnings('ignore')"
   ]
  },
  {
   "cell_type": "code",
   "execution_count": 2,
   "id": "2086757b",
   "metadata": {
    "scrolled": true
   },
   "outputs": [
    {
     "data": {
      "text/html": [
       "<div>\n",
       "<style scoped>\n",
       "    .dataframe tbody tr th:only-of-type {\n",
       "        vertical-align: middle;\n",
       "    }\n",
       "\n",
       "    .dataframe tbody tr th {\n",
       "        vertical-align: top;\n",
       "    }\n",
       "\n",
       "    .dataframe thead th {\n",
       "        text-align: right;\n",
       "    }\n",
       "</style>\n",
       "<table border=\"1\" class=\"dataframe\">\n",
       "  <thead>\n",
       "    <tr style=\"text-align: right;\">\n",
       "      <th></th>\n",
       "      <th>title</th>\n",
       "      <th>publish_date</th>\n",
       "      <th>text_body</th>\n",
       "      <th>category</th>\n",
       "    </tr>\n",
       "  </thead>\n",
       "  <tbody>\n",
       "    <tr>\n",
       "      <th>0</th>\n",
       "      <td>Construction sector ‘amnesty plan’ extended\\n</td>\n",
       "      <td>January 1, 2021</td>\n",
       "      <td>\\t\\t\\t\\nISLAMABAD: Prime Minister Imran Khan o...</td>\n",
       "      <td>Newspaper</td>\n",
       "    </tr>\n",
       "    <tr>\n",
       "      <th>1</th>\n",
       "      <td>People won’t pay heed to PDM protest plans: PM\\n</td>\n",
       "      <td>January 2, 2021</td>\n",
       "      <td>• Rubbishes opposition’s allegation of being ‘...</td>\n",
       "      <td>Pakistan</td>\n",
       "    </tr>\n",
       "    <tr>\n",
       "      <th>2</th>\n",
       "      <td>Ministry to pay 30pc of circular debt to IPPs\\n</td>\n",
       "      <td>January 2, 2021</td>\n",
       "      <td>ISLAMABAD: In the wake of the first meeting wi...</td>\n",
       "      <td>Newspaper</td>\n",
       "    </tr>\n",
       "    <tr>\n",
       "      <th>3</th>\n",
       "      <td>IHC fines  govt officials Rs10m in missing  pe...</td>\n",
       "      <td>January 2, 2021</td>\n",
       "      <td>ISLAMABAD: In an unprecedented move, the Islam...</td>\n",
       "      <td>Pakistan</td>\n",
       "    </tr>\n",
       "    <tr>\n",
       "      <th>4</th>\n",
       "      <td>Govt agrees to pay $28.7m damages to US firm\\n</td>\n",
       "      <td>January 2, 2021</td>\n",
       "      <td>ISLAMABAD: The federal cabinet has approved pa...</td>\n",
       "      <td>Newspaper</td>\n",
       "    </tr>\n",
       "  </tbody>\n",
       "</table>\n",
       "</div>"
      ],
      "text/plain": [
       "                                               title     publish_date  \\\n",
       "0      Construction sector ‘amnesty plan’ extended\\n  January 1, 2021   \n",
       "1   People won’t pay heed to PDM protest plans: PM\\n  January 2, 2021   \n",
       "2    Ministry to pay 30pc of circular debt to IPPs\\n  January 2, 2021   \n",
       "3  IHC fines  govt officials Rs10m in missing  pe...  January 2, 2021   \n",
       "4     Govt agrees to pay $28.7m damages to US firm\\n  January 2, 2021   \n",
       "\n",
       "                                           text_body   category  \n",
       "0  \\t\\t\\t\\nISLAMABAD: Prime Minister Imran Khan o...  Newspaper  \n",
       "1  • Rubbishes opposition’s allegation of being ‘...   Pakistan  \n",
       "2  ISLAMABAD: In the wake of the first meeting wi...  Newspaper  \n",
       "3  ISLAMABAD: In an unprecedented move, the Islam...   Pakistan  \n",
       "4  ISLAMABAD: The federal cabinet has approved pa...  Newspaper  "
      ]
     },
     "execution_count": 2,
     "metadata": {},
     "output_type": "execute_result"
    }
   ],
   "source": [
    "# Importing data\n",
    "data = pd.read_csv('news_articles_dawn_v2.csv', date_parser='publish_date')\n",
    "data.head()"
   ]
  },
  {
   "cell_type": "markdown",
   "id": "9ca6a774",
   "metadata": {},
   "source": [
    "# Cleaning data"
   ]
  },
  {
   "cell_type": "code",
   "execution_count": 3,
   "id": "77bc9788",
   "metadata": {},
   "outputs": [
    {
     "name": "stdout",
     "output_type": "stream",
     "text": [
      "<class 'pandas.core.frame.DataFrame'>\n",
      "RangeIndex: 766 entries, 0 to 765\n",
      "Data columns (total 4 columns):\n",
      " #   Column        Non-Null Count  Dtype \n",
      "---  ------        --------------  ----- \n",
      " 0   title         766 non-null    object\n",
      " 1   publish_date  766 non-null    object\n",
      " 2   text_body     766 non-null    object\n",
      " 3   category      766 non-null    object\n",
      "dtypes: object(4)\n",
      "memory usage: 24.1+ KB\n"
     ]
    }
   ],
   "source": [
    "data.info()"
   ]
  },
  {
   "cell_type": "markdown",
   "id": "88af7034",
   "metadata": {},
   "source": [
    "We dont have any null values in the data"
   ]
  },
  {
   "cell_type": "code",
   "execution_count": 4,
   "id": "38f829b6",
   "metadata": {
    "scrolled": false
   },
   "outputs": [
    {
     "data": {
      "text/plain": [
       "array(['Newspaper', 'Pakistan', 'Sport', 'Business', 'World'],\n",
       "      dtype=object)"
      ]
     },
     "execution_count": 4,
     "metadata": {},
     "output_type": "execute_result"
    }
   ],
   "source": [
    "# How many categories do we have?\n",
    "data['category'].unique()"
   ]
  },
  {
   "cell_type": "markdown",
   "id": "d3a163b5",
   "metadata": {},
   "source": [
    "##### Lower casing the data & Remove punctuation \n",
    "\n",
    "The most important step while dealing text data is to remove punctuation. Altough removing stop words are also important but we may need stop words while finding average length per category we wont remove it now.\n",
    "\n",
    "we have two text columns:\n",
    "- `title`\n",
    "- `text_body`\n",
    "\n",
    "we will apply all the preprcessing on these two."
   ]
  },
  {
   "cell_type": "code",
   "execution_count": 5,
   "id": "ad9a35a2",
   "metadata": {},
   "outputs": [],
   "source": [
    "# Lower-casing the text\n",
    "data['title'] = data['title'].apply(lambda x : x.lower())\n",
    "data['text_body'] = data['text_body'].apply(lambda x : x.lower())"
   ]
  },
  {
   "cell_type": "code",
   "execution_count": 6,
   "id": "45b72e3a",
   "metadata": {},
   "outputs": [],
   "source": [
    "# Removing punctuation \n",
    "import string\n",
    "punctuations = string.punctuation + \"‘•’“”\\t\\n—\"  # Adding some extra punctuation \n",
    "\n",
    "# Creating a helper function\n",
    "def remove_punctuation(text):\n",
    "    text_nopunct = \"\".join([c for c in text if c not in punctuations])\n",
    "    return text_nopunct\n",
    "\n",
    "# Appling the helper function to text_body\n",
    "data['title'] = data['title'].apply(remove_punctuation)\n",
    "# Appling the helper function to text_body\n",
    "data['text_body'] = data['text_body'].apply(remove_punctuation)"
   ]
  },
  {
   "cell_type": "code",
   "execution_count": 7,
   "id": "9049a3ca",
   "metadata": {
    "scrolled": true
   },
   "outputs": [
    {
     "data": {
      "text/html": [
       "<div>\n",
       "<style scoped>\n",
       "    .dataframe tbody tr th:only-of-type {\n",
       "        vertical-align: middle;\n",
       "    }\n",
       "\n",
       "    .dataframe tbody tr th {\n",
       "        vertical-align: top;\n",
       "    }\n",
       "\n",
       "    .dataframe thead th {\n",
       "        text-align: right;\n",
       "    }\n",
       "</style>\n",
       "<table border=\"1\" class=\"dataframe\">\n",
       "  <thead>\n",
       "    <tr style=\"text-align: right;\">\n",
       "      <th></th>\n",
       "      <th>title</th>\n",
       "      <th>publish_date</th>\n",
       "      <th>text_body</th>\n",
       "      <th>category</th>\n",
       "    </tr>\n",
       "  </thead>\n",
       "  <tbody>\n",
       "    <tr>\n",
       "      <th>0</th>\n",
       "      <td>construction sector amnesty plan extended</td>\n",
       "      <td>January 1, 2021</td>\n",
       "      <td>islamabad prime minister imran khan on thursda...</td>\n",
       "      <td>Newspaper</td>\n",
       "    </tr>\n",
       "    <tr>\n",
       "      <th>1</th>\n",
       "      <td>people wont pay heed to pdm protest plans pm</td>\n",
       "      <td>January 2, 2021</td>\n",
       "      <td>rubbishes oppositions allegation of being pup...</td>\n",
       "      <td>Pakistan</td>\n",
       "    </tr>\n",
       "    <tr>\n",
       "      <th>2</th>\n",
       "      <td>ministry to pay 30pc of circular debt to ipps</td>\n",
       "      <td>January 2, 2021</td>\n",
       "      <td>islamabad in the wake of the first meeting wit...</td>\n",
       "      <td>Newspaper</td>\n",
       "    </tr>\n",
       "    <tr>\n",
       "      <th>3</th>\n",
       "      <td>ihc fines  govt officials rs10m in missing  pe...</td>\n",
       "      <td>January 2, 2021</td>\n",
       "      <td>islamabad in an unprecedented move the islamab...</td>\n",
       "      <td>Pakistan</td>\n",
       "    </tr>\n",
       "    <tr>\n",
       "      <th>4</th>\n",
       "      <td>govt agrees to pay 287m damages to us firm</td>\n",
       "      <td>January 2, 2021</td>\n",
       "      <td>islamabad the federal cabinet has approved pay...</td>\n",
       "      <td>Newspaper</td>\n",
       "    </tr>\n",
       "  </tbody>\n",
       "</table>\n",
       "</div>"
      ],
      "text/plain": [
       "                                               title     publish_date  \\\n",
       "0          construction sector amnesty plan extended  January 1, 2021   \n",
       "1       people wont pay heed to pdm protest plans pm  January 2, 2021   \n",
       "2      ministry to pay 30pc of circular debt to ipps  January 2, 2021   \n",
       "3  ihc fines  govt officials rs10m in missing  pe...  January 2, 2021   \n",
       "4         govt agrees to pay 287m damages to us firm  January 2, 2021   \n",
       "\n",
       "                                           text_body   category  \n",
       "0  islamabad prime minister imran khan on thursda...  Newspaper  \n",
       "1   rubbishes oppositions allegation of being pup...   Pakistan  \n",
       "2  islamabad in the wake of the first meeting wit...  Newspaper  \n",
       "3  islamabad in an unprecedented move the islamab...   Pakistan  \n",
       "4  islamabad the federal cabinet has approved pay...  Newspaper  "
      ]
     },
     "execution_count": 7,
     "metadata": {},
     "output_type": "execute_result"
    }
   ],
   "source": [
    "data.head()"
   ]
  },
  {
   "cell_type": "markdown",
   "id": "2c25b590",
   "metadata": {},
   "source": [
    "##### Replacing words\n",
    "\n",
    "One important preprocessing is to replace some common words in the dataset i.e imran khan, prime minister etc  to a single word so that we dont count them as two seprate words"
   ]
  },
  {
   "cell_type": "code",
   "execution_count": 8,
   "id": "f1865575",
   "metadata": {},
   "outputs": [],
   "source": [
    "# Dictionary of words to replce..\n",
    "words_to_replace = {'prime minister': 'pm',\n",
    "                   'chief minister': 'cm',\n",
    "                   'imran khan': 'imrankhan',\n",
    "                    'imran' : 'imrankhan',\n",
    "                   'world cup': 'worldcup',\n",
    "                   'khyber pakhtunkhwa':'kpk',\n",
    "                   'united states':'usa',\n",
    "                   'new zealand':'newzealand',\n",
    "                   'south africa':'southafrica',\n",
    "                   'babar azam':'babarazam',\n",
    "                   'mohammad rizwan':'mohammadrizwan',\n",
    "                   'saudi arabia':'saudiarabia',\n",
    "                   'new delhi':'newdehli',\n",
    "                   'social media':'socialmedia',\n",
    "                   'president joe':'joebiden'}\n",
    "\n",
    "# Defining a helper function which will take a string as input and replce all the words in the string\n",
    "def replce_words(text):\n",
    "    # Iterate over all key-value pairs in dictionary\n",
    "    for key, value in words_to_replace.items():\n",
    "        text = text.replace(key, value)\n",
    "    return text"
   ]
  },
  {
   "cell_type": "code",
   "execution_count": 9,
   "id": "c2c0c63e",
   "metadata": {},
   "outputs": [],
   "source": [
    "# Replcing words in  text_body\n",
    "data['text_body'] = data['text_body'].apply(replce_words)\n",
    "\n",
    "# Replacing words in title\n",
    "data['title'] = data['title'].apply(replce_words)"
   ]
  },
  {
   "cell_type": "markdown",
   "id": "78426d5b",
   "metadata": {},
   "source": [
    "# Text_body"
   ]
  },
  {
   "cell_type": "markdown",
   "id": "9e2daf27",
   "metadata": {},
   "source": [
    "### Grouping data \n",
    "\n",
    "As we are going to analyze the data through by categories, we need to create a new dataframe to groupe `body_text` by `category` "
   ]
  },
  {
   "cell_type": "code",
   "execution_count": 10,
   "id": "0607a3f0",
   "metadata": {
    "scrolled": false
   },
   "outputs": [
    {
     "data": {
      "text/html": [
       "<div>\n",
       "<style scoped>\n",
       "    .dataframe tbody tr th:only-of-type {\n",
       "        vertical-align: middle;\n",
       "    }\n",
       "\n",
       "    .dataframe tbody tr th {\n",
       "        vertical-align: top;\n",
       "    }\n",
       "\n",
       "    .dataframe thead th {\n",
       "        text-align: right;\n",
       "    }\n",
       "</style>\n",
       "<table border=\"1\" class=\"dataframe\">\n",
       "  <thead>\n",
       "    <tr style=\"text-align: right;\">\n",
       "      <th></th>\n",
       "      <th>text_body</th>\n",
       "    </tr>\n",
       "    <tr>\n",
       "      <th>category</th>\n",
       "      <th></th>\n",
       "    </tr>\n",
       "  </thead>\n",
       "  <tbody>\n",
       "    <tr>\n",
       "      <th>Business</th>\n",
       "      <td>inflation eased to eight per cent in december ...</td>\n",
       "    </tr>\n",
       "    <tr>\n",
       "      <th>Newspaper</th>\n",
       "      <td>islamabad pm imrankhankhan on thursday gave a ...</td>\n",
       "    </tr>\n",
       "    <tr>\n",
       "      <th>Pakistan</th>\n",
       "      <td>rubbishes oppositions allegation of being pup...</td>\n",
       "    </tr>\n",
       "    <tr>\n",
       "      <th>Sport</th>\n",
       "      <td>pakistan captain babarazam has been ruled out ...</td>\n",
       "    </tr>\n",
       "    <tr>\n",
       "      <th>World</th>\n",
       "      <td>iran confirmed on tuesday it is now enriching ...</td>\n",
       "    </tr>\n",
       "  </tbody>\n",
       "</table>\n",
       "</div>"
      ],
      "text/plain": [
       "                                                   text_body\n",
       "category                                                    \n",
       "Business   inflation eased to eight per cent in december ...\n",
       "Newspaper  islamabad pm imrankhankhan on thursday gave a ...\n",
       "Pakistan    rubbishes oppositions allegation of being pup...\n",
       "Sport      pakistan captain babarazam has been ruled out ...\n",
       "World      iran confirmed on tuesday it is now enriching ..."
      ]
     },
     "execution_count": 10,
     "metadata": {},
     "output_type": "execute_result"
    }
   ],
   "source": [
    "# grouping data by using groupby function\n",
    "text_per_cat = data.groupby(by='category')[['text_body']].sum()\n",
    "text_per_cat"
   ]
  },
  {
   "cell_type": "markdown",
   "id": "00e7a6f1",
   "metadata": {},
   "source": [
    "`text_per_cat` show us total text per category"
   ]
  },
  {
   "cell_type": "markdown",
   "id": "fc3bc451",
   "metadata": {},
   "source": [
    "### Average length of text per category"
   ]
  },
  {
   "cell_type": "markdown",
   "id": "560bbc57",
   "metadata": {},
   "source": [
    "###### Adding extra columns\n",
    "\n",
    "To find average length of text per category we need to create two columns in `text_per_cat` DataFrame.\n",
    "- `count`\n",
    "this will show us how many values do we have for each category.\n",
    "- `length`\n",
    "this will show us the length of each category text."
   ]
  },
  {
   "cell_type": "code",
   "execution_count": 11,
   "id": "f1c72f69",
   "metadata": {
    "scrolled": true
   },
   "outputs": [
    {
     "data": {
      "text/html": [
       "<div>\n",
       "<style scoped>\n",
       "    .dataframe tbody tr th:only-of-type {\n",
       "        vertical-align: middle;\n",
       "    }\n",
       "\n",
       "    .dataframe tbody tr th {\n",
       "        vertical-align: top;\n",
       "    }\n",
       "\n",
       "    .dataframe thead th {\n",
       "        text-align: right;\n",
       "    }\n",
       "</style>\n",
       "<table border=\"1\" class=\"dataframe\">\n",
       "  <thead>\n",
       "    <tr style=\"text-align: right;\">\n",
       "      <th></th>\n",
       "      <th>text_body</th>\n",
       "      <th>count</th>\n",
       "      <th>length</th>\n",
       "    </tr>\n",
       "    <tr>\n",
       "      <th>category</th>\n",
       "      <th></th>\n",
       "      <th></th>\n",
       "      <th></th>\n",
       "    </tr>\n",
       "  </thead>\n",
       "  <tbody>\n",
       "    <tr>\n",
       "      <th>Business</th>\n",
       "      <td>inflation eased to eight per cent in december ...</td>\n",
       "      <td>3</td>\n",
       "      <td>13772</td>\n",
       "    </tr>\n",
       "    <tr>\n",
       "      <th>Newspaper</th>\n",
       "      <td>islamabad pm imrankhankhan on thursday gave a ...</td>\n",
       "      <td>304</td>\n",
       "      <td>817849</td>\n",
       "    </tr>\n",
       "    <tr>\n",
       "      <th>Pakistan</th>\n",
       "      <td>rubbishes oppositions allegation of being pup...</td>\n",
       "      <td>373</td>\n",
       "      <td>1067096</td>\n",
       "    </tr>\n",
       "    <tr>\n",
       "      <th>Sport</th>\n",
       "      <td>pakistan captain babarazam has been ruled out ...</td>\n",
       "      <td>24</td>\n",
       "      <td>60002</td>\n",
       "    </tr>\n",
       "    <tr>\n",
       "      <th>World</th>\n",
       "      <td>iran confirmed on tuesday it is now enriching ...</td>\n",
       "      <td>62</td>\n",
       "      <td>220139</td>\n",
       "    </tr>\n",
       "  </tbody>\n",
       "</table>\n",
       "</div>"
      ],
      "text/plain": [
       "                                                   text_body  count   length\n",
       "category                                                                    \n",
       "Business   inflation eased to eight per cent in december ...      3    13772\n",
       "Newspaper  islamabad pm imrankhankhan on thursday gave a ...    304   817849\n",
       "Pakistan    rubbishes oppositions allegation of being pup...    373  1067096\n",
       "Sport      pakistan captain babarazam has been ruled out ...     24    60002\n",
       "World      iran confirmed on tuesday it is now enriching ...     62   220139"
      ]
     },
     "execution_count": 11,
     "metadata": {},
     "output_type": "execute_result"
    }
   ],
   "source": [
    "# creating count_per_cat column\n",
    "text_per_cat['count'] =  data['category'].value_counts()\n",
    "\n",
    "# Creating length\n",
    "text_per_cat['length'] = text_per_cat[\"text_body\"].apply(lambda x: len(x))\n",
    "text_per_cat.head()"
   ]
  },
  {
   "cell_type": "code",
   "execution_count": 12,
   "id": "ac41b4b3",
   "metadata": {
    "scrolled": true
   },
   "outputs": [
    {
     "data": {
      "text/html": [
       "<div>\n",
       "<style scoped>\n",
       "    .dataframe tbody tr th:only-of-type {\n",
       "        vertical-align: middle;\n",
       "    }\n",
       "\n",
       "    .dataframe tbody tr th {\n",
       "        vertical-align: top;\n",
       "    }\n",
       "\n",
       "    .dataframe thead th {\n",
       "        text-align: right;\n",
       "    }\n",
       "</style>\n",
       "<table border=\"1\" class=\"dataframe\">\n",
       "  <thead>\n",
       "    <tr style=\"text-align: right;\">\n",
       "      <th></th>\n",
       "      <th>text_body</th>\n",
       "      <th>count</th>\n",
       "      <th>length</th>\n",
       "      <th>avg_length</th>\n",
       "    </tr>\n",
       "    <tr>\n",
       "      <th>category</th>\n",
       "      <th></th>\n",
       "      <th></th>\n",
       "      <th></th>\n",
       "      <th></th>\n",
       "    </tr>\n",
       "  </thead>\n",
       "  <tbody>\n",
       "    <tr>\n",
       "      <th>Business</th>\n",
       "      <td>inflation eased to eight per cent in december ...</td>\n",
       "      <td>3</td>\n",
       "      <td>13772</td>\n",
       "      <td>4590.666667</td>\n",
       "    </tr>\n",
       "    <tr>\n",
       "      <th>Newspaper</th>\n",
       "      <td>islamabad pm imrankhankhan on thursday gave a ...</td>\n",
       "      <td>304</td>\n",
       "      <td>817849</td>\n",
       "      <td>2690.292763</td>\n",
       "    </tr>\n",
       "    <tr>\n",
       "      <th>Pakistan</th>\n",
       "      <td>rubbishes oppositions allegation of being pup...</td>\n",
       "      <td>373</td>\n",
       "      <td>1067096</td>\n",
       "      <td>2860.847185</td>\n",
       "    </tr>\n",
       "    <tr>\n",
       "      <th>Sport</th>\n",
       "      <td>pakistan captain babarazam has been ruled out ...</td>\n",
       "      <td>24</td>\n",
       "      <td>60002</td>\n",
       "      <td>2500.083333</td>\n",
       "    </tr>\n",
       "    <tr>\n",
       "      <th>World</th>\n",
       "      <td>iran confirmed on tuesday it is now enriching ...</td>\n",
       "      <td>62</td>\n",
       "      <td>220139</td>\n",
       "      <td>3550.629032</td>\n",
       "    </tr>\n",
       "  </tbody>\n",
       "</table>\n",
       "</div>"
      ],
      "text/plain": [
       "                                                   text_body  count   length  \\\n",
       "category                                                                       \n",
       "Business   inflation eased to eight per cent in december ...      3    13772   \n",
       "Newspaper  islamabad pm imrankhankhan on thursday gave a ...    304   817849   \n",
       "Pakistan    rubbishes oppositions allegation of being pup...    373  1067096   \n",
       "Sport      pakistan captain babarazam has been ruled out ...     24    60002   \n",
       "World      iran confirmed on tuesday it is now enriching ...     62   220139   \n",
       "\n",
       "            avg_length  \n",
       "category                \n",
       "Business   4590.666667  \n",
       "Newspaper  2690.292763  \n",
       "Pakistan   2860.847185  \n",
       "Sport      2500.083333  \n",
       "World      3550.629032  "
      ]
     },
     "execution_count": 12,
     "metadata": {},
     "output_type": "execute_result"
    }
   ],
   "source": [
    "# Avrage length per category are \n",
    "text_per_cat['avg_length'] = text_per_cat['length']/text_per_cat['count']\n",
    "text_per_cat"
   ]
  },
  {
   "cell_type": "code",
   "execution_count": 13,
   "id": "0e2d2227",
   "metadata": {},
   "outputs": [
    {
     "data": {
      "image/png": "[encoded data removed]",
      "text/plain": [
       "<Figure size 720x576 with 1 Axes>"
      ]
     },
     "metadata": {
      "needs_background": "light"
     },
     "output_type": "display_data"
    }
   ],
   "source": [
    "# Creating figure\n",
    "plt.figure(figsize=(10,8))\n",
    "\n",
    "# Creating bar plot\n",
    "sns.barplot(x=text_per_cat.index,y=text_per_cat['avg_length'])\n",
    "\n",
    "# Setting title and labels\n",
    "plt.title('Average length per category',fontsize=18,fontweight='bold');\n",
    "plt.ylabel('Average length',fontsize=12,fontweight='bold')\n",
    "plt.xlabel('Categories',fontsize=12,fontweight='bold')\n",
    "plt.show();"
   ]
  },
  {
   "cell_type": "markdown",
   "id": "624f236e",
   "metadata": {},
   "source": [
    "The above plot show us average length of text per category."
   ]
  },
  {
   "cell_type": "markdown",
   "id": "d7e4c46d",
   "metadata": {},
   "source": [
    "### What are the most occuring words per category?"
   ]
  },
  {
   "cell_type": "markdown",
   "id": "c8f9faf0",
   "metadata": {},
   "source": [
    "###### Removing stop words\n",
    "\n",
    "To find most frequent words we need to remove stop words, because counting stop words as most frequent words doesnt make any sense."
   ]
  },
  {
   "cell_type": "code",
   "execution_count": 14,
   "id": "3bf1f7b4",
   "metadata": {},
   "outputs": [],
   "source": [
    "# Importing stop words while adding two extra words to the stop words\n",
    "all_stopwords_gensim = STOPWORDS.union(set(['said','told']))\n",
    "\n",
    "# Define a helper function to remove stop stop words from the given dataset\n",
    "def remove_stopwords(text):\n",
    "    \n",
    "    '''Imput a text and return the same text without stop words'''\n",
    "    \n",
    "    filtered_text =  ' '.join([word for word in word_tokenize(text) if word not in all_stopwords_gensim])\n",
    "    return filtered_text\n",
    "\n",
    "text_per_cat['text_body'] = text_per_cat['text_body'].apply(remove_stopwords)"
   ]
  },
  {
   "cell_type": "code",
   "execution_count": 15,
   "id": "f8ab9b45",
   "metadata": {},
   "outputs": [],
   "source": [
    "# Importing counter function\n",
    "from collections import Counter\n",
    "\n",
    "# Deifining a helper function\n",
    "def frequent_words(text,number_words):\n",
    "    '''Input a text and number of words , and return a list of tupples , \n",
    "    the first element of the tupple is word and 2nd element is its count that how much it has appeared in the given text.\n",
    "    number of words argument is how much words you want\n",
    "    '''\n",
    "    # Tokanizing the text\n",
    "    text = nltk.word_tokenize(text)\n",
    "    \n",
    "    # Passing the text into counter\n",
    "    counter = Counter(text)\n",
    "    # most_common() produces k frequently encountere\n",
    "    # input values and their respective counts.\n",
    "    most_occur = counter.most_common(number_words)\n",
    "    \n",
    "    return most_occur\n"
   ]
  },
  {
   "cell_type": "code",
   "execution_count": 16,
   "id": "96e2ecf7",
   "metadata": {
    "scrolled": true
   },
   "outputs": [
    {
     "data": {
      "text/plain": [
       "category\n",
       "Business     [(pakistan, 32), (minister, 19), (government, ...\n",
       "Newspaper    [(pakistan, 459), (government, 311), (year, 28...\n",
       "Pakistan     [(government, 835), (pakistan, 507), (police, ...\n",
       "Sport        [(pakistan, 56), (cricket, 50), (series, 33), ...\n",
       "World        [(government, 114), (taliban, 93), (people, 79...\n",
       "Name: text_body, dtype: object"
      ]
     },
     "execution_count": 16,
     "metadata": {},
     "output_type": "execute_result"
    }
   ],
   "source": [
    "text_per_cat['text_body'].apply(lambda x : frequent_words(x,number_words=10))"
   ]
  },
  {
   "cell_type": "markdown",
   "id": "3d7a61e1",
   "metadata": {},
   "source": [
    "##### Visualizing top words per category"
   ]
  },
  {
   "cell_type": "code",
   "execution_count": 17,
   "id": "dc26dba7",
   "metadata": {},
   "outputs": [],
   "source": [
    "# Creating a helper function to create a nice data_frame for each category top words\n",
    "\n",
    "def creat_frame(Category,Range):\n",
    "    '''Return a dataframe of most frequent words, when we pass category name and number of words we want\n",
    "    category : category name\n",
    "    number : number of frequent words\n",
    "    '''\n",
    "    top_words = text_per_cat['text_body'].apply(lambda x : frequent_words(x,Range))\n",
    "    words ,counts = [],[]\n",
    "    for word,count in top_words[Category]:\n",
    "        words.append(word)\n",
    "        counts.append(count)\n",
    "    data_frame =  pd.DataFrame(counts,words, columns = ['counts']).reset_index().rename(columns ={'index':'words'})\n",
    "    return data_frame"
   ]
  },
  {
   "cell_type": "code",
   "execution_count": 18,
   "id": "f4097530",
   "metadata": {},
   "outputs": [
    {
     "data": {
      "application/vnd.jupyter.widget-view+json": {
       "model_id": "ecb0b822425d41cc9524efc183ad44f2",
       "version_major": 2,
       "version_minor": 0
      },
      "text/plain": [
       "interactive(children=(Dropdown(description='Category', options=('Business', 'Newspaper', 'Pakistan', 'Sport', …"
      ]
     },
     "metadata": {},
     "output_type": "display_data"
    }
   ],
   "source": [
    "number_of_words = range(10,31)\n",
    "interact(\n",
    "    creat_frame,\n",
    "    Category=Dropdown(options=list(text_per_cat.index)),\n",
    "    Range = Dropdown(options=number_of_words)\n",
    ");"
   ]
  },
  {
   "cell_type": "code",
   "execution_count": 19,
   "id": "6ba29ac8",
   "metadata": {},
   "outputs": [],
   "source": [
    "# Define a helper function which will create barplot of frequent words per category when we pass a category name.\n",
    "\n",
    "def creat_plot(Category,Range):\n",
    "    '''Input Category and Range and return a barplot of most frequent words in the given category of give Range'''\n",
    "    \n",
    "    # Creating data frame\n",
    "    data = creat_frame(Category,Range)\n",
    "    \n",
    "    # Creating figure\n",
    "    plt.figure(figsize=(12,6)) \n",
    "    \n",
    "    # setting theam_style\n",
    "    sns.set_theme(style=\"whitegrid\")\n",
    "    \n",
    "    # creating bar plot in the figure\n",
    "    sns.barplot(data=data,y='words',x='counts')\n",
    "    \n",
    "    # Setting title and labels\n",
    "    plt.title(f'Top {Range} most occuring words in {Category} category',fontsize=18,fontweight='bold');\n",
    "    plt.ylabel('Words',fontsize=12,fontweight='bold')\n",
    "    plt.xlabel('Frequency',fontsize=12,fontweight='bold')\n",
    "    plt.show();"
   ]
  },
  {
   "cell_type": "code",
   "execution_count": 20,
   "id": "5f925fb8",
   "metadata": {},
   "outputs": [
    {
     "data": {
      "application/vnd.jupyter.widget-view+json": {
       "model_id": "4dbeba70dbd040daa326c463a7baea17",
       "version_major": 2,
       "version_minor": 0
      },
      "text/plain": [
       "interactive(children=(Dropdown(description='Category', options=('Business', 'Newspaper', 'Pakistan', 'Sport', …"
      ]
     },
     "metadata": {},
     "output_type": "display_data"
    }
   ],
   "source": [
    "\n",
    "interact(\n",
    "    creat_plot,\n",
    "    Category=Dropdown(options=list(text_per_cat.index)),\n",
    "    Range=Dropdown(options=number_of_words)\n",
    ");"
   ]
  },
  {
   "cell_type": "markdown",
   "id": "fc6b8eb6",
   "metadata": {},
   "source": [
    "### Number of unique words per category"
   ]
  },
  {
   "cell_type": "markdown",
   "id": "615a8c57",
   "metadata": {},
   "source": [
    "###### Removing digits \n",
    "\n",
    "Digits should also not be counted as unique words, we need to romve all the digits"
   ]
  },
  {
   "cell_type": "code",
   "execution_count": 21,
   "id": "13b0fb92",
   "metadata": {},
   "outputs": [],
   "source": [
    "# Removing Digits\n",
    "import re\n",
    "\n",
    "text_per_cat['text_body'] = text_per_cat['text_body'].apply(lambda x : re.sub(r'[0-9]+', '', x))"
   ]
  },
  {
   "cell_type": "code",
   "execution_count": 22,
   "id": "897f29c0",
   "metadata": {},
   "outputs": [],
   "source": [
    "# Defining a helper function to find the number of unique words per category\\\n",
    "def unique_words(category):\n",
    "    \n",
    "    # finding unique words\n",
    "    unique_words = len(set(word_tokenize(text_per_cat['text_body'][category])))\n",
    "    \n",
    "    # Printing the number\n",
    "    print(f\"Number of unique words in \\033[1m'{category}' category is \\033[1m{unique_words}\\033[1m\")"
   ]
  },
  {
   "cell_type": "code",
   "execution_count": 23,
   "id": "c0cd78d1",
   "metadata": {
    "scrolled": true
   },
   "outputs": [
    {
     "data": {
      "application/vnd.jupyter.widget-view+json": {
       "model_id": "5dce66200ba64398a2511f644000c80e",
       "version_major": 2,
       "version_minor": 0
      },
      "text/plain": [
       "interactive(children=(Dropdown(description='category', options=('Business', 'Newspaper', 'Pakistan', 'Sport', …"
      ]
     },
     "metadata": {},
     "output_type": "display_data"
    }
   ],
   "source": [
    "# Creating a dropdown interface to show number of unique words per category\n",
    "interact(\n",
    "    unique_words,\n",
    "    category=Dropdown(options=list(text_per_cat.index))\n",
    ");"
   ]
  },
  {
   "cell_type": "markdown",
   "id": "bf3d066b",
   "metadata": {},
   "source": [
    "### What are the top ngrams of text_body per category?\n",
    "\n",
    "Lets find out bigrams and trigrams per category and show them on chart."
   ]
  },
  {
   "cell_type": "code",
   "execution_count": null,
   "id": "da19989e",
   "metadata": {},
   "outputs": [],
   "source": [
    "data['text_body'].apply(remove_stopwords)"
   ]
  },
  {
   "cell_type": "code",
   "execution_count": 28,
   "id": "bd7a2bb3",
   "metadata": {},
   "outputs": [
    {
     "data": {
      "text/plain": [
       "[('federal government', 107),\n",
       " ('pm imrankhankhan', 94),\n",
       " ('high court', 91),\n",
       " ('provincial government', 81),\n",
       " ('sindh government', 66),\n",
       " ('supreme court', 63),\n",
       " ('local government', 62),\n",
       " ('human rights', 60),\n",
       " ('chief justice', 56),\n",
       " ('national assembly', 43)]"
      ]
     },
     "execution_count": 28,
     "metadata": {},
     "output_type": "execute_result"
    }
   ],
   "source": [
    "get_top_ngram(data['text_body'].apply(remove_stopwords),2)"
   ]
  },
  {
   "cell_type": "code",
   "execution_count": 26,
   "id": "5e9ba0d5",
   "metadata": {},
   "outputs": [],
   "source": [
    "# Defining a helper function\n",
    "def get_top_ngram(corpus, n=None):\n",
    "    vec = CountVectorizer(ngram_range=(n, n)).fit(corpus)\n",
    "    bag_of_words = vec.transform(corpus)\n",
    "    sum_words = bag_of_words.sum(axis=0) \n",
    "    words_freq = [(word, sum_words[0, idx]) \n",
    "                  for word, idx in vec.vocabulary_.items()]\n",
    "    words_freq =sorted(words_freq, key = lambda x: x[1], reverse=True)\n",
    "    return words_freq[:10]\n",
    "\n",
    "# Defining a helper function which will find bigrams per category when we pass category name\n",
    "\n",
    "\n",
    "def plot_ngrams(Category,Range):\n",
    "    new_data = data[data['category']==Category]\n",
    "    \n",
    "    frequent_bigrams = get_top_ngram(new_data['text_body'].apply(remove_stopwords),Range)\n",
    "    \n",
    "    bigrams ,counts = [],[]\n",
    "    for bigram,count in frequent_bigrams:\n",
    "        bigrams.append(bigram)\n",
    "        counts.append(count)\n",
    "\n",
    "    # Creating figure\n",
    "    plt.figure(figsize=(10,6))\n",
    "   \n",
    "    # Creating barplot\n",
    "    sns.barplot(x=counts,y = bigrams)\n",
    "\n",
    "    # Setting title and labels\n",
    "    plt.title(f\"N-grams of {Category} category\",fontsize=18,fontweight='bold')\n",
    "    plt.ylabel('N-grams', fontsize=12,fontweight='bold')\n",
    "    plt.xlabel('Frequency',fontsize=12,fontweight='bold')\n",
    "    plt.show();\n",
    "    "
   ]
  },
  {
   "cell_type": "code",
   "execution_count": 25,
   "id": "e4fef3d8",
   "metadata": {},
   "outputs": [
    {
     "data": {
      "application/vnd.jupyter.widget-view+json": {
       "model_id": "7b8a13a805b84f24a2e6272ff302cf14",
       "version_major": 2,
       "version_minor": 0
      },
      "text/plain": [
       "interactive(children=(Dropdown(description='Category', options=('Business', 'Newspaper', 'Pakistan', 'Sport', …"
      ]
     },
     "metadata": {},
     "output_type": "display_data"
    }
   ],
   "source": [
    "interact(\n",
    "    plot_ngrams,\n",
    "    Category=Dropdown(options=list(text_per_cat.index)),\n",
    "    Range= Dropdown(options=[2,3,4])\n",
    ");"
   ]
  },
  {
   "cell_type": "markdown",
   "id": "bad8f6fe",
   "metadata": {},
   "source": [
    "The above bar_plot shows bigrams per category"
   ]
  },
  {
   "cell_type": "markdown",
   "id": "ca020f1a",
   "metadata": {},
   "source": [
    "### Sentiment analysis per category\n",
    "\n",
    "lets explore which each category that what kind of words are used , Negitive , Positive or neutral."
   ]
  },
  {
   "cell_type": "code",
   "execution_count": 26,
   "id": "25aad74c",
   "metadata": {},
   "outputs": [],
   "source": [
    "# Importing TextBlob\n",
    "from textblob import TextBlob\n",
    "\n",
    "# Defining a helper function \n",
    "def polarity(text):\n",
    "    return TextBlob(text).sentiment.polarity\n",
    "\n",
    "# Defining a helper function to show histogram of words when we pass category name\n",
    "\n",
    "def sentiment(Category):\n",
    "    # Creating a new data frame \n",
    "    new_data = data[data['category']==Category]\n",
    "    \n",
    "    # Creating figure\n",
    "    plt.figure(figsize=(10,6))\n",
    "\n",
    "    # Creating histogram\n",
    "    new_data['polarity_score'] = new_data['text_body'].apply(lambda x : polarity(x))\n",
    "    sns.histplot(new_data['polarity_score'])\n",
    "\n",
    "    # Setting title and labels\n",
    "    plt.title(f\"Polarity score of {Category} category\",fontsize=18,fontweight='bold')\n",
    "    plt.ylabel('Counts', fontsize=12,fontweight='bold')\n",
    "    plt.xlabel('Polarity score',fontsize=12,fontweight='bold')\n",
    "    plt.show();"
   ]
  },
  {
   "cell_type": "code",
   "execution_count": 27,
   "id": "55ee0f19",
   "metadata": {
    "scrolled": false
   },
   "outputs": [
    {
     "data": {
      "application/vnd.jupyter.widget-view+json": {
       "model_id": "21957fa620dc43d785d95fe7ec7aaec9",
       "version_major": 2,
       "version_minor": 0
      },
      "text/plain": [
       "interactive(children=(Dropdown(description='Category', options=('Newspaper', 'Pakistan', 'Sport', 'World'), va…"
      ]
     },
     "metadata": {},
     "output_type": "display_data"
    }
   ],
   "source": [
    "# Creating a dropdown interface to show number of unique words per category\n",
    "interact(\n",
    "    sentiment,\n",
    "    Category=Dropdown(options=['Newspaper', 'Pakistan', 'Sport', 'World'])\n",
    ");"
   ]
  },
  {
   "cell_type": "markdown",
   "id": "a5dea777",
   "metadata": {},
   "source": [
    "The above graph shows the polarity score lets classify it into negetive , positve and neutral see the results"
   ]
  },
  {
   "cell_type": "code",
   "execution_count": 28,
   "id": "afd79b28",
   "metadata": {},
   "outputs": [],
   "source": [
    "# Defining a helper function, doing some small modification in the above defined sentiment function \n",
    "\n",
    " # defininf classifer for the ease of work\n",
    "def classifier (x):\n",
    "    if x<0:\n",
    "        return 'Negitive'\n",
    "    elif x==0:\n",
    "        return 'Neutral'\n",
    "    else:\n",
    "        return 'Positive'\n",
    "\n",
    "# Defining a helper function to show histogram of words when we pass category name\n",
    "def sentiment_classifier(Category):\n",
    "    # Creating a new data frame \n",
    "    new_data = data[data['category']==Category]\n",
    "    \n",
    "    new_data['polarity_score'] = new_data['text_body'].apply(lambda x : polarity(x))\n",
    "    \n",
    "    new_data['polarity'] = new_data['polarity_score'].apply(lambda x : classifier (x))\n",
    "    \n",
    "    # Creating figure\n",
    "    plt.figure(figsize=(10,6))\n",
    "\n",
    "    # Creating histogram\n",
    "    sns.countplot(new_data['polarity'])\n",
    "\n",
    "    # Setting title and labels\n",
    "    plt.title(f\"Polarity of {Category} category\",fontsize=18,fontweight='bold')\n",
    "    plt.ylabel('Counts', fontsize=12,fontweight='bold')\n",
    "    plt.xlabel('Polarity',fontsize=12,fontweight='bold')\n",
    "    plt.show();"
   ]
  },
  {
   "cell_type": "code",
   "execution_count": 29,
   "id": "1a914bcb",
   "metadata": {
    "scrolled": false
   },
   "outputs": [
    {
     "data": {
      "application/vnd.jupyter.widget-view+json": {
       "model_id": "294fe0bfbd3c4c4c884b002bd267ab6a",
       "version_major": 2,
       "version_minor": 0
      },
      "text/plain": [
       "interactive(children=(Dropdown(description='Category', options=('Business', 'Newspaper', 'Pakistan', 'Sport', …"
      ]
     },
     "metadata": {},
     "output_type": "display_data"
    }
   ],
   "source": [
    "interact(\n",
    "    sentiment_classifier,\n",
    "    Category=Dropdown(options=list(text_per_cat.index))\n",
    ");"
   ]
  },
  {
   "cell_type": "markdown",
   "id": "40b0028c",
   "metadata": {},
   "source": [
    "The above plot shows that mostly news has posive words ,, they rarely use neutral words"
   ]
  },
  {
   "cell_type": "markdown",
   "id": "edea88d5",
   "metadata": {},
   "source": [
    "# Title"
   ]
  },
  {
   "cell_type": "markdown",
   "id": "ca2c65a0",
   "metadata": {},
   "source": [
    "### How much char are there in title averagly?"
   ]
  },
  {
   "cell_type": "code",
   "execution_count": 30,
   "id": "cb3179d5",
   "metadata": {
    "scrolled": false
   },
   "outputs": [
    {
     "data": {
      "image/png": "[encoded data removed]",
      "text/plain": [
       "<Figure size 720x432 with 1 Axes>"
      ]
     },
     "metadata": {},
     "output_type": "display_data"
    }
   ],
   "source": [
    "# Creating figure\n",
    "plt.figure(figsize=(10,6))\n",
    "\n",
    "# Creating histogram\n",
    "sns.histplot(data['title'].str.len(), bins=15)\n",
    "\n",
    "# Setting title and labels\n",
    "plt.title(\"Number of Characters in title\",fontsize=18,fontweight='bold')\n",
    "plt.ylabel('Frequency', fontsize=12,fontweight='bold')\n",
    "plt.xlabel('Number of Characters',fontsize=12,fontweight='bold');"
   ]
  },
  {
   "cell_type": "markdown",
   "id": "7d803539",
   "metadata": {},
   "source": [
    "The above plot shows that title ranges from 20 - 100 characters and generally, it is between 40 - 80 characters."
   ]
  },
  {
   "cell_type": "markdown",
   "id": "3431db06",
   "metadata": {},
   "source": [
    "### How long words are used in news title averagly?"
   ]
  },
  {
   "cell_type": "code",
   "execution_count": 31,
   "id": "81e1c364",
   "metadata": {
    "scrolled": false
   },
   "outputs": [
    {
     "data": {
      "image/png": "[encoded data removed]",
      "text/plain": [
       "<Figure size 720x432 with 1 Axes>"
      ]
     },
     "metadata": {},
     "output_type": "display_data"
    }
   ],
   "source": [
    "# Creating figure\n",
    "plt.figure(figsize=(10,6))\n",
    "\n",
    "# Creating histogram\n",
    "data['title'].apply(lambda x : [len(i) for i in word_tokenize(x)]).map(lambda x: np.mean(x)).hist()\n",
    "\n",
    "# Setting tittle and labels\n",
    "plt.title(\"Average word length vs its Frequency\",fontsize=18,fontweight='bold')\n",
    "plt.ylabel('Frequency', fontsize=12,fontweight='bold')\n",
    "plt.xlabel('Average length',fontsize=12,fontweight='bold');"
   ]
  },
  {
   "cell_type": "markdown",
   "id": "247c6103",
   "metadata": {},
   "source": [
    "This show that long words are not used comonly in news title, generally most its range is 4-7"
   ]
  },
  {
   "cell_type": "markdown",
   "id": "eba9575f",
   "metadata": {},
   "source": [
    "### What are most frequent words used in the news title?"
   ]
  },
  {
   "cell_type": "code",
   "execution_count": 32,
   "id": "8f60e3c1",
   "metadata": {},
   "outputs": [],
   "source": [
    "# Creating a corpus of words (removing stopwords and punctuations) , The corpus contain all the tokens of title\n",
    "corpus = data['title'].apply(remove_stopwords).sum().split()"
   ]
  },
  {
   "cell_type": "code",
   "execution_count": 33,
   "id": "34fe659f",
   "metadata": {
    "scrolled": false
   },
   "outputs": [
    {
     "data": {
      "image/png": "[encoded data removed]",
      "text/plain": [
       "<Figure size 720x432 with 1 Axes>"
      ]
     },
     "metadata": {},
     "output_type": "display_data"
    }
   ],
   "source": [
    "# couting words\n",
    "counter=Counter(corpus)\n",
    "# Grabing most common words\n",
    "most=counter.most_common(10)\n",
    "\n",
    "# Seperating words and its counts\n",
    "words, counts= [], []\n",
    "for word,count in most:\n",
    "        words.append(word)\n",
    "        counts.append(count)\n",
    "\n",
    "# Creating figure\n",
    "plt.figure(figsize=(10,6))\n",
    "\n",
    "# Creating barplot\n",
    "sns.barplot(x=counts,y=words)\n",
    "\n",
    "\n",
    "# Setting tittle and labels\n",
    "plt.title(\"Most Frequent words in title\",fontsize=18,fontweight='bold')\n",
    "plt.ylabel('Words', fontsize=12,fontweight='bold')\n",
    "plt.xlabel('Frequency',fontsize=12,fontweight='bold');"
   ]
  },
  {
   "cell_type": "markdown",
   "id": "2ddc7830",
   "metadata": {},
   "source": [
    "### Frequent bigrams in news title"
   ]
  },
  {
   "cell_type": "code",
   "execution_count": 34,
   "id": "ab1f1603",
   "metadata": {},
   "outputs": [
    {
     "data": {
      "image/png": "[encoded data removed]",
      "text/plain": [
       "<Figure size 720x432 with 1 Axes>"
      ]
     },
     "metadata": {},
     "output_type": "display_data"
    }
   ],
   "source": [
    "bigrams_of_title = get_top_ngram(data['title'].apply(remove_stopwords),2)\n",
    "\n",
    "bigrams ,counts = [],[]\n",
    "for bigram,count in bigrams_of_title:\n",
    "    bigrams.append(bigram)\n",
    "    counts.append(count)\n",
    "\n",
    "# Creating figure\n",
    "plt.figure(figsize=(10,6))\n",
    "   \n",
    "# Creating barplot\n",
    "sns.barplot(x=counts,y = bigrams)\n",
    "\n",
    "# Setting title and labels\n",
    "plt.title(\"Bigrams of title\",fontsize=18,fontweight='bold')\n",
    "plt.ylabel('Bigrams', fontsize=12,fontweight='bold')\n",
    "plt.xlabel('Frequency',fontsize=12,fontweight='bold');"
   ]
  },
  {
   "cell_type": "markdown",
   "id": "3b1d561f",
   "metadata": {},
   "source": [
    "This bar plot show PM Imran dominate the news title followed by word cup and sindh govt"
   ]
  },
  {
   "cell_type": "markdown",
   "id": "2e6f097a",
   "metadata": {},
   "source": [
    "### What kind of words are commonly used in news headlines Negitive, Positive or Nutural?\n",
    "\n",
    "Lets do some sentiment analysis to find out what kind of words are commonly used "
   ]
  },
  {
   "cell_type": "code",
   "execution_count": 35,
   "id": "a661397a",
   "metadata": {
    "scrolled": false
   },
   "outputs": [
    {
     "data": {
      "image/png": "[encoded data removed]",
      "text/plain": [
       "<Figure size 720x432 with 1 Axes>"
      ]
     },
     "metadata": {},
     "output_type": "display_data"
    }
   ],
   "source": [
    "# Creating figure\n",
    "plt.figure(figsize=(10,6))\n",
    "\n",
    "# Creating histogram\n",
    "sns.histplot(data['title'].apply(lambda x : polarity(x)))\n",
    "\n",
    "# Setting title and labels\n",
    "plt.title(\"Polarity score of News title\",fontsize=18,fontweight='bold')\n",
    "plt.ylabel('Counts', fontsize=12,fontweight='bold')\n",
    "plt.xlabel('Polarity score',fontsize=12,fontweight='bold');"
   ]
  },
  {
   "cell_type": "markdown",
   "id": "8f1d8715",
   "metadata": {},
   "source": [
    "This plot shows that mostly news title are neutral"
   ]
  }
 ],
 "metadata": {
  "kernelspec": {
   "display_name": "Python 3 (ipykernel)",
   "language": "python",
   "name": "python3"
  },
  "language_info": {
   "codemirror_mode": {
    "name": "ipython",
    "version": 3
   },
   "file_extension": ".py",
   "mimetype": "text/x-python",
   "name": "python",
   "nbconvert_exporter": "python",
   "pygments_lexer": "ipython3",
   "version": "3.9.7"
  }
 },
 "nbformat": 4,
 "nbformat_minor": 5
}
